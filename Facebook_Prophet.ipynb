{
  "nbformat": 4,
  "nbformat_minor": 0,
  "metadata": {
    "colab": {
      "provenance": [],
      "collapsed_sections": [],
      "toc_visible": true,
      "authorship_tag": "ABX9TyMFtRzEJPdqlPg2v+UMHgrC",
      "include_colab_link": true
    },
    "kernelspec": {
      "name": "python3",
      "display_name": "Python 3"
    },
    "language_info": {
      "name": "python"
    },
    "gpuClass": "standard"
  },
  "cells": [
    {
      "cell_type": "markdown",
      "metadata": {
        "id": "view-in-github",
        "colab_type": "text"
      },
      "source": [
        "<a href=\"https://colab.research.google.com/github/SeongminCC/private_project/blob/main/Facebook_Prophet.ipynb\" target=\"_parent\"><img src=\"https://colab.research.google.com/assets/colab-badge.svg\" alt=\"Open In Colab\"/></a>"
      ]
    },
    {
      "cell_type": "markdown",
      "source": [
        "# Facebook Prophet\n",
        "**ARIMA 보다 조금 더 정확한 트렌드 예측 분석을 함**\n",
        "\n",
        "**Prophet은 Additive 모델이라는 모델링 방법에 기반한 시계열 예측 모델**\n",
        "  - 시계열 데이터의 트렌드성(연간/월간/일간)을 예측하는 것에 초점이 맞추어져 있음\n",
        "  - Additive 모델 : 선형 회귀 분석의 단점을 극복하기 위해 개량된 분석 방법의 하나\n",
        "    - 시계열 분석 역시 회귀 분석의 한 갈래이기에 회귀분석의 단점을 가지고 있음\n",
        "    - 이 단점을 극복하기 위해 각 피처마다 비선형적 적합을 가능하게 하는 일련의 방법을 적용함"
      ],
      "metadata": {
        "id": "6bPmiTNpwpc3"
      }
    },
    {
      "cell_type": "code",
      "source": [
        "import pandas as pd\n",
        "import numpy as np\n",
        "import matplotlib.pylab as plt\n",
        "from tqdm import tqdm\n",
        "import warnings\n",
        "from glob import glob\n",
        "from sklearn.model_selection import train_test_split\n",
        "import random\n",
        "import os\n",
        "\n",
        "# 경고 끄기\n",
        "warnings.filterwarnings(action='ignore')\n",
        "\n",
        "# 시드고정\n",
        "random.seed(19970119)\n",
        "np.random.seed(19970119)"
      ],
      "metadata": {
        "id": "NA4GwggU1mo9"
      },
      "execution_count": 1,
      "outputs": []
    },
    {
      "cell_type": "code",
      "execution_count": 2,
      "metadata": {
        "colab": {
          "base_uri": "https://localhost:8080/"
        },
        "id": "GfIR1wkqxyDN",
        "outputId": "73ed7f7f-f83d-47ac-cbbb-d95a7e35fa4f"
      },
      "outputs": [
        {
          "output_type": "stream",
          "name": "stdout",
          "text": [
            "Mounted at /content/drive\n"
          ]
        }
      ],
      "source": [
        "from google.colab import drive\n",
        "drive.mount('/content/drive')"
      ]
    },
    {
      "cell_type": "code",
      "source": [
        "%cd /content/drive/MyDrive/private project\n",
        "!ls -al"
      ],
      "metadata": {
        "colab": {
          "base_uri": "https://localhost:8080/"
        },
        "id": "wKINi8WM1ATO",
        "outputId": "50f8e65d-f74c-438a-e6e6-fd5390cfeceb"
      },
      "execution_count": 3,
      "outputs": [
        {
          "output_type": "stream",
          "name": "stdout",
          "text": [
            "/content/drive/MyDrive/private project\n",
            "total 169\n",
            "-rw------- 1 root root 164626 Sep  9 16:48  ARIMA.ipynb\n",
            "drwx------ 2 root root   4096 Sep  9 15:14  data\n",
            "-rw------- 1 root root   4068 Sep 10 14:30 'Facebook Prophet.ipynb'\n"
          ]
        }
      ]
    },
    {
      "cell_type": "markdown",
      "source": [
        "# 데이터 불러오기\n",
        "**2021/09/09 ~ 2022/09/09 까지의 비트코인 가격(USD) 데이터인 csv파일을 불러온다**"
      ],
      "metadata": {
        "id": "xj85mGnj4YdG"
      }
    },
    {
      "cell_type": "code",
      "source": [
        "bitcoin_df = pd.read_csv('./data/bitcoin/bitcoin_20210909_20220909.csv')\n",
        "bitcoin_df"
      ],
      "metadata": {
        "colab": {
          "base_uri": "https://localhost:8080/",
          "height": 424
        },
        "id": "1JvXy9i21d5n",
        "outputId": "d22bc567-759a-4175-cc5f-a6b83165413b"
      },
      "execution_count": 4,
      "outputs": [
        {
          "output_type": "execute_result",
          "data": {
            "text/plain": [
              "               Timestamp  market-price\n",
              "0    2021-09-09 00:00:00      46078.38\n",
              "1    2021-09-10 00:00:00      46368.69\n",
              "2    2021-09-11 00:00:00      44847.48\n",
              "3    2021-09-12 00:00:00      45144.79\n",
              "4    2021-09-13 00:00:00      46059.12\n",
              "..                   ...           ...\n",
              "361  2022-09-05 00:00:00      19994.65\n",
              "362  2022-09-06 00:00:00      19789.87\n",
              "363  2022-09-07 00:00:00      18806.70\n",
              "364  2022-09-08 00:00:00      19280.08\n",
              "365  2022-09-09 00:00:00      19327.53\n",
              "\n",
              "[366 rows x 2 columns]"
            ],
            "text/html": [
              "\n",
              "  <div id=\"df-91d02cf4-4ee8-4f3e-9786-005489406cb3\">\n",
              "    <div class=\"colab-df-container\">\n",
              "      <div>\n",
              "<style scoped>\n",
              "    .dataframe tbody tr th:only-of-type {\n",
              "        vertical-align: middle;\n",
              "    }\n",
              "\n",
              "    .dataframe tbody tr th {\n",
              "        vertical-align: top;\n",
              "    }\n",
              "\n",
              "    .dataframe thead th {\n",
              "        text-align: right;\n",
              "    }\n",
              "</style>\n",
              "<table border=\"1\" class=\"dataframe\">\n",
              "  <thead>\n",
              "    <tr style=\"text-align: right;\">\n",
              "      <th></th>\n",
              "      <th>Timestamp</th>\n",
              "      <th>market-price</th>\n",
              "    </tr>\n",
              "  </thead>\n",
              "  <tbody>\n",
              "    <tr>\n",
              "      <th>0</th>\n",
              "      <td>2021-09-09 00:00:00</td>\n",
              "      <td>46078.38</td>\n",
              "    </tr>\n",
              "    <tr>\n",
              "      <th>1</th>\n",
              "      <td>2021-09-10 00:00:00</td>\n",
              "      <td>46368.69</td>\n",
              "    </tr>\n",
              "    <tr>\n",
              "      <th>2</th>\n",
              "      <td>2021-09-11 00:00:00</td>\n",
              "      <td>44847.48</td>\n",
              "    </tr>\n",
              "    <tr>\n",
              "      <th>3</th>\n",
              "      <td>2021-09-12 00:00:00</td>\n",
              "      <td>45144.79</td>\n",
              "    </tr>\n",
              "    <tr>\n",
              "      <th>4</th>\n",
              "      <td>2021-09-13 00:00:00</td>\n",
              "      <td>46059.12</td>\n",
              "    </tr>\n",
              "    <tr>\n",
              "      <th>...</th>\n",
              "      <td>...</td>\n",
              "      <td>...</td>\n",
              "    </tr>\n",
              "    <tr>\n",
              "      <th>361</th>\n",
              "      <td>2022-09-05 00:00:00</td>\n",
              "      <td>19994.65</td>\n",
              "    </tr>\n",
              "    <tr>\n",
              "      <th>362</th>\n",
              "      <td>2022-09-06 00:00:00</td>\n",
              "      <td>19789.87</td>\n",
              "    </tr>\n",
              "    <tr>\n",
              "      <th>363</th>\n",
              "      <td>2022-09-07 00:00:00</td>\n",
              "      <td>18806.70</td>\n",
              "    </tr>\n",
              "    <tr>\n",
              "      <th>364</th>\n",
              "      <td>2022-09-08 00:00:00</td>\n",
              "      <td>19280.08</td>\n",
              "    </tr>\n",
              "    <tr>\n",
              "      <th>365</th>\n",
              "      <td>2022-09-09 00:00:00</td>\n",
              "      <td>19327.53</td>\n",
              "    </tr>\n",
              "  </tbody>\n",
              "</table>\n",
              "<p>366 rows × 2 columns</p>\n",
              "</div>\n",
              "      <button class=\"colab-df-convert\" onclick=\"convertToInteractive('df-91d02cf4-4ee8-4f3e-9786-005489406cb3')\"\n",
              "              title=\"Convert this dataframe to an interactive table.\"\n",
              "              style=\"display:none;\">\n",
              "        \n",
              "  <svg xmlns=\"http://www.w3.org/2000/svg\" height=\"24px\"viewBox=\"0 0 24 24\"\n",
              "       width=\"24px\">\n",
              "    <path d=\"M0 0h24v24H0V0z\" fill=\"none\"/>\n",
              "    <path d=\"M18.56 5.44l.94 2.06.94-2.06 2.06-.94-2.06-.94-.94-2.06-.94 2.06-2.06.94zm-11 1L8.5 8.5l.94-2.06 2.06-.94-2.06-.94L8.5 2.5l-.94 2.06-2.06.94zm10 10l.94 2.06.94-2.06 2.06-.94-2.06-.94-.94-2.06-.94 2.06-2.06.94z\"/><path d=\"M17.41 7.96l-1.37-1.37c-.4-.4-.92-.59-1.43-.59-.52 0-1.04.2-1.43.59L10.3 9.45l-7.72 7.72c-.78.78-.78 2.05 0 2.83L4 21.41c.39.39.9.59 1.41.59.51 0 1.02-.2 1.41-.59l7.78-7.78 2.81-2.81c.8-.78.8-2.07 0-2.86zM5.41 20L4 18.59l7.72-7.72 1.47 1.35L5.41 20z\"/>\n",
              "  </svg>\n",
              "      </button>\n",
              "      \n",
              "  <style>\n",
              "    .colab-df-container {\n",
              "      display:flex;\n",
              "      flex-wrap:wrap;\n",
              "      gap: 12px;\n",
              "    }\n",
              "\n",
              "    .colab-df-convert {\n",
              "      background-color: #E8F0FE;\n",
              "      border: none;\n",
              "      border-radius: 50%;\n",
              "      cursor: pointer;\n",
              "      display: none;\n",
              "      fill: #1967D2;\n",
              "      height: 32px;\n",
              "      padding: 0 0 0 0;\n",
              "      width: 32px;\n",
              "    }\n",
              "\n",
              "    .colab-df-convert:hover {\n",
              "      background-color: #E2EBFA;\n",
              "      box-shadow: 0px 1px 2px rgba(60, 64, 67, 0.3), 0px 1px 3px 1px rgba(60, 64, 67, 0.15);\n",
              "      fill: #174EA6;\n",
              "    }\n",
              "\n",
              "    [theme=dark] .colab-df-convert {\n",
              "      background-color: #3B4455;\n",
              "      fill: #D2E3FC;\n",
              "    }\n",
              "\n",
              "    [theme=dark] .colab-df-convert:hover {\n",
              "      background-color: #434B5C;\n",
              "      box-shadow: 0px 1px 3px 1px rgba(0, 0, 0, 0.15);\n",
              "      filter: drop-shadow(0px 1px 2px rgba(0, 0, 0, 0.3));\n",
              "      fill: #FFFFFF;\n",
              "    }\n",
              "  </style>\n",
              "\n",
              "      <script>\n",
              "        const buttonEl =\n",
              "          document.querySelector('#df-91d02cf4-4ee8-4f3e-9786-005489406cb3 button.colab-df-convert');\n",
              "        buttonEl.style.display =\n",
              "          google.colab.kernel.accessAllowed ? 'block' : 'none';\n",
              "\n",
              "        async function convertToInteractive(key) {\n",
              "          const element = document.querySelector('#df-91d02cf4-4ee8-4f3e-9786-005489406cb3');\n",
              "          const dataTable =\n",
              "            await google.colab.kernel.invokeFunction('convertToInteractive',\n",
              "                                                     [key], {});\n",
              "          if (!dataTable) return;\n",
              "\n",
              "          const docLinkHtml = 'Like what you see? Visit the ' +\n",
              "            '<a target=\"_blank\" href=https://colab.research.google.com/notebooks/data_table.ipynb>data table notebook</a>'\n",
              "            + ' to learn more about interactive tables.';\n",
              "          element.innerHTML = '';\n",
              "          dataTable['output_type'] = 'display_data';\n",
              "          await google.colab.output.renderOutput(dataTable, element);\n",
              "          const docLink = document.createElement('div');\n",
              "          docLink.innerHTML = docLinkHtml;\n",
              "          element.appendChild(docLink);\n",
              "        }\n",
              "      </script>\n",
              "    </div>\n",
              "  </div>\n",
              "  "
            ]
          },
          "metadata": {},
          "execution_count": 4
        }
      ]
    },
    {
      "cell_type": "markdown",
      "source": [
        "**데이터 전처리**"
      ],
      "metadata": {
        "id": "5x-QOu-a4xXF"
      }
    },
    {
      "cell_type": "code",
      "source": [
        "day_split = bitcoin_df['Timestamp'].str.split(\" \")"
      ],
      "metadata": {
        "id": "bhpxlfqJ3ZPu"
      },
      "execution_count": 5,
      "outputs": []
    },
    {
      "cell_type": "code",
      "source": [
        "bitcoin_df['Timestamp'] = day_split.str.get(0)\n",
        "bitcoin_df.columns = ['datadate', 'price']\n",
        "bitcoin_df"
      ],
      "metadata": {
        "colab": {
          "base_uri": "https://localhost:8080/",
          "height": 424
        },
        "id": "P-_cKyS62X-v",
        "outputId": "71bf22e5-c589-40e2-e2de-d6bb5a1f9cbc"
      },
      "execution_count": 6,
      "outputs": [
        {
          "output_type": "execute_result",
          "data": {
            "text/plain": [
              "       datadate     price\n",
              "0    2021-09-09  46078.38\n",
              "1    2021-09-10  46368.69\n",
              "2    2021-09-11  44847.48\n",
              "3    2021-09-12  45144.79\n",
              "4    2021-09-13  46059.12\n",
              "..          ...       ...\n",
              "361  2022-09-05  19994.65\n",
              "362  2022-09-06  19789.87\n",
              "363  2022-09-07  18806.70\n",
              "364  2022-09-08  19280.08\n",
              "365  2022-09-09  19327.53\n",
              "\n",
              "[366 rows x 2 columns]"
            ],
            "text/html": [
              "\n",
              "  <div id=\"df-653cd2db-8ca5-406b-a190-015ea8007725\">\n",
              "    <div class=\"colab-df-container\">\n",
              "      <div>\n",
              "<style scoped>\n",
              "    .dataframe tbody tr th:only-of-type {\n",
              "        vertical-align: middle;\n",
              "    }\n",
              "\n",
              "    .dataframe tbody tr th {\n",
              "        vertical-align: top;\n",
              "    }\n",
              "\n",
              "    .dataframe thead th {\n",
              "        text-align: right;\n",
              "    }\n",
              "</style>\n",
              "<table border=\"1\" class=\"dataframe\">\n",
              "  <thead>\n",
              "    <tr style=\"text-align: right;\">\n",
              "      <th></th>\n",
              "      <th>datadate</th>\n",
              "      <th>price</th>\n",
              "    </tr>\n",
              "  </thead>\n",
              "  <tbody>\n",
              "    <tr>\n",
              "      <th>0</th>\n",
              "      <td>2021-09-09</td>\n",
              "      <td>46078.38</td>\n",
              "    </tr>\n",
              "    <tr>\n",
              "      <th>1</th>\n",
              "      <td>2021-09-10</td>\n",
              "      <td>46368.69</td>\n",
              "    </tr>\n",
              "    <tr>\n",
              "      <th>2</th>\n",
              "      <td>2021-09-11</td>\n",
              "      <td>44847.48</td>\n",
              "    </tr>\n",
              "    <tr>\n",
              "      <th>3</th>\n",
              "      <td>2021-09-12</td>\n",
              "      <td>45144.79</td>\n",
              "    </tr>\n",
              "    <tr>\n",
              "      <th>4</th>\n",
              "      <td>2021-09-13</td>\n",
              "      <td>46059.12</td>\n",
              "    </tr>\n",
              "    <tr>\n",
              "      <th>...</th>\n",
              "      <td>...</td>\n",
              "      <td>...</td>\n",
              "    </tr>\n",
              "    <tr>\n",
              "      <th>361</th>\n",
              "      <td>2022-09-05</td>\n",
              "      <td>19994.65</td>\n",
              "    </tr>\n",
              "    <tr>\n",
              "      <th>362</th>\n",
              "      <td>2022-09-06</td>\n",
              "      <td>19789.87</td>\n",
              "    </tr>\n",
              "    <tr>\n",
              "      <th>363</th>\n",
              "      <td>2022-09-07</td>\n",
              "      <td>18806.70</td>\n",
              "    </tr>\n",
              "    <tr>\n",
              "      <th>364</th>\n",
              "      <td>2022-09-08</td>\n",
              "      <td>19280.08</td>\n",
              "    </tr>\n",
              "    <tr>\n",
              "      <th>365</th>\n",
              "      <td>2022-09-09</td>\n",
              "      <td>19327.53</td>\n",
              "    </tr>\n",
              "  </tbody>\n",
              "</table>\n",
              "<p>366 rows × 2 columns</p>\n",
              "</div>\n",
              "      <button class=\"colab-df-convert\" onclick=\"convertToInteractive('df-653cd2db-8ca5-406b-a190-015ea8007725')\"\n",
              "              title=\"Convert this dataframe to an interactive table.\"\n",
              "              style=\"display:none;\">\n",
              "        \n",
              "  <svg xmlns=\"http://www.w3.org/2000/svg\" height=\"24px\"viewBox=\"0 0 24 24\"\n",
              "       width=\"24px\">\n",
              "    <path d=\"M0 0h24v24H0V0z\" fill=\"none\"/>\n",
              "    <path d=\"M18.56 5.44l.94 2.06.94-2.06 2.06-.94-2.06-.94-.94-2.06-.94 2.06-2.06.94zm-11 1L8.5 8.5l.94-2.06 2.06-.94-2.06-.94L8.5 2.5l-.94 2.06-2.06.94zm10 10l.94 2.06.94-2.06 2.06-.94-2.06-.94-.94-2.06-.94 2.06-2.06.94z\"/><path d=\"M17.41 7.96l-1.37-1.37c-.4-.4-.92-.59-1.43-.59-.52 0-1.04.2-1.43.59L10.3 9.45l-7.72 7.72c-.78.78-.78 2.05 0 2.83L4 21.41c.39.39.9.59 1.41.59.51 0 1.02-.2 1.41-.59l7.78-7.78 2.81-2.81c.8-.78.8-2.07 0-2.86zM5.41 20L4 18.59l7.72-7.72 1.47 1.35L5.41 20z\"/>\n",
              "  </svg>\n",
              "      </button>\n",
              "      \n",
              "  <style>\n",
              "    .colab-df-container {\n",
              "      display:flex;\n",
              "      flex-wrap:wrap;\n",
              "      gap: 12px;\n",
              "    }\n",
              "\n",
              "    .colab-df-convert {\n",
              "      background-color: #E8F0FE;\n",
              "      border: none;\n",
              "      border-radius: 50%;\n",
              "      cursor: pointer;\n",
              "      display: none;\n",
              "      fill: #1967D2;\n",
              "      height: 32px;\n",
              "      padding: 0 0 0 0;\n",
              "      width: 32px;\n",
              "    }\n",
              "\n",
              "    .colab-df-convert:hover {\n",
              "      background-color: #E2EBFA;\n",
              "      box-shadow: 0px 1px 2px rgba(60, 64, 67, 0.3), 0px 1px 3px 1px rgba(60, 64, 67, 0.15);\n",
              "      fill: #174EA6;\n",
              "    }\n",
              "\n",
              "    [theme=dark] .colab-df-convert {\n",
              "      background-color: #3B4455;\n",
              "      fill: #D2E3FC;\n",
              "    }\n",
              "\n",
              "    [theme=dark] .colab-df-convert:hover {\n",
              "      background-color: #434B5C;\n",
              "      box-shadow: 0px 1px 3px 1px rgba(0, 0, 0, 0.15);\n",
              "      filter: drop-shadow(0px 1px 2px rgba(0, 0, 0, 0.3));\n",
              "      fill: #FFFFFF;\n",
              "    }\n",
              "  </style>\n",
              "\n",
              "      <script>\n",
              "        const buttonEl =\n",
              "          document.querySelector('#df-653cd2db-8ca5-406b-a190-015ea8007725 button.colab-df-convert');\n",
              "        buttonEl.style.display =\n",
              "          google.colab.kernel.accessAllowed ? 'block' : 'none';\n",
              "\n",
              "        async function convertToInteractive(key) {\n",
              "          const element = document.querySelector('#df-653cd2db-8ca5-406b-a190-015ea8007725');\n",
              "          const dataTable =\n",
              "            await google.colab.kernel.invokeFunction('convertToInteractive',\n",
              "                                                     [key], {});\n",
              "          if (!dataTable) return;\n",
              "\n",
              "          const docLinkHtml = 'Like what you see? Visit the ' +\n",
              "            '<a target=\"_blank\" href=https://colab.research.google.com/notebooks/data_table.ipynb>data table notebook</a>'\n",
              "            + ' to learn more about interactive tables.';\n",
              "          element.innerHTML = '';\n",
              "          dataTable['output_type'] = 'display_data';\n",
              "          await google.colab.output.renderOutput(dataTable, element);\n",
              "          const docLink = document.createElement('div');\n",
              "          docLink.innerHTML = docLinkHtml;\n",
              "          element.appendChild(docLink);\n",
              "        }\n",
              "      </script>\n",
              "    </div>\n",
              "  </div>\n",
              "  "
            ]
          },
          "metadata": {},
          "execution_count": 6
        }
      ]
    },
    {
      "cell_type": "markdown",
      "source": [
        "**시계열 정보를 데이터 프레임의 인덱스로 설정**"
      ],
      "metadata": {
        "id": "w3vDpA764_4g"
      }
    },
    {
      "cell_type": "code",
      "source": [
        "bitcoin_df['datadate'] = pd.to_datetime(bitcoin_df['datadate'])\n",
        "bitcoin_df.index = bitcoin_df['datadate']\n",
        "bitcoin_df.set_index('datadate', inplace=True)\n",
        "bitcoin_df"
      ],
      "metadata": {
        "colab": {
          "base_uri": "https://localhost:8080/",
          "height": 455
        },
        "id": "Z4iJ-9mq3yXe",
        "outputId": "530f19f9-7d0d-4300-b90d-53dee05a9650"
      },
      "execution_count": 7,
      "outputs": [
        {
          "output_type": "execute_result",
          "data": {
            "text/plain": [
              "               price\n",
              "datadate            \n",
              "2021-09-09  46078.38\n",
              "2021-09-10  46368.69\n",
              "2021-09-11  44847.48\n",
              "2021-09-12  45144.79\n",
              "2021-09-13  46059.12\n",
              "...              ...\n",
              "2022-09-05  19994.65\n",
              "2022-09-06  19789.87\n",
              "2022-09-07  18806.70\n",
              "2022-09-08  19280.08\n",
              "2022-09-09  19327.53\n",
              "\n",
              "[366 rows x 1 columns]"
            ],
            "text/html": [
              "\n",
              "  <div id=\"df-68fce3c8-0e6f-4bcf-9a79-336110a4ddb7\">\n",
              "    <div class=\"colab-df-container\">\n",
              "      <div>\n",
              "<style scoped>\n",
              "    .dataframe tbody tr th:only-of-type {\n",
              "        vertical-align: middle;\n",
              "    }\n",
              "\n",
              "    .dataframe tbody tr th {\n",
              "        vertical-align: top;\n",
              "    }\n",
              "\n",
              "    .dataframe thead th {\n",
              "        text-align: right;\n",
              "    }\n",
              "</style>\n",
              "<table border=\"1\" class=\"dataframe\">\n",
              "  <thead>\n",
              "    <tr style=\"text-align: right;\">\n",
              "      <th></th>\n",
              "      <th>price</th>\n",
              "    </tr>\n",
              "    <tr>\n",
              "      <th>datadate</th>\n",
              "      <th></th>\n",
              "    </tr>\n",
              "  </thead>\n",
              "  <tbody>\n",
              "    <tr>\n",
              "      <th>2021-09-09</th>\n",
              "      <td>46078.38</td>\n",
              "    </tr>\n",
              "    <tr>\n",
              "      <th>2021-09-10</th>\n",
              "      <td>46368.69</td>\n",
              "    </tr>\n",
              "    <tr>\n",
              "      <th>2021-09-11</th>\n",
              "      <td>44847.48</td>\n",
              "    </tr>\n",
              "    <tr>\n",
              "      <th>2021-09-12</th>\n",
              "      <td>45144.79</td>\n",
              "    </tr>\n",
              "    <tr>\n",
              "      <th>2021-09-13</th>\n",
              "      <td>46059.12</td>\n",
              "    </tr>\n",
              "    <tr>\n",
              "      <th>...</th>\n",
              "      <td>...</td>\n",
              "    </tr>\n",
              "    <tr>\n",
              "      <th>2022-09-05</th>\n",
              "      <td>19994.65</td>\n",
              "    </tr>\n",
              "    <tr>\n",
              "      <th>2022-09-06</th>\n",
              "      <td>19789.87</td>\n",
              "    </tr>\n",
              "    <tr>\n",
              "      <th>2022-09-07</th>\n",
              "      <td>18806.70</td>\n",
              "    </tr>\n",
              "    <tr>\n",
              "      <th>2022-09-08</th>\n",
              "      <td>19280.08</td>\n",
              "    </tr>\n",
              "    <tr>\n",
              "      <th>2022-09-09</th>\n",
              "      <td>19327.53</td>\n",
              "    </tr>\n",
              "  </tbody>\n",
              "</table>\n",
              "<p>366 rows × 1 columns</p>\n",
              "</div>\n",
              "      <button class=\"colab-df-convert\" onclick=\"convertToInteractive('df-68fce3c8-0e6f-4bcf-9a79-336110a4ddb7')\"\n",
              "              title=\"Convert this dataframe to an interactive table.\"\n",
              "              style=\"display:none;\">\n",
              "        \n",
              "  <svg xmlns=\"http://www.w3.org/2000/svg\" height=\"24px\"viewBox=\"0 0 24 24\"\n",
              "       width=\"24px\">\n",
              "    <path d=\"M0 0h24v24H0V0z\" fill=\"none\"/>\n",
              "    <path d=\"M18.56 5.44l.94 2.06.94-2.06 2.06-.94-2.06-.94-.94-2.06-.94 2.06-2.06.94zm-11 1L8.5 8.5l.94-2.06 2.06-.94-2.06-.94L8.5 2.5l-.94 2.06-2.06.94zm10 10l.94 2.06.94-2.06 2.06-.94-2.06-.94-.94-2.06-.94 2.06-2.06.94z\"/><path d=\"M17.41 7.96l-1.37-1.37c-.4-.4-.92-.59-1.43-.59-.52 0-1.04.2-1.43.59L10.3 9.45l-7.72 7.72c-.78.78-.78 2.05 0 2.83L4 21.41c.39.39.9.59 1.41.59.51 0 1.02-.2 1.41-.59l7.78-7.78 2.81-2.81c.8-.78.8-2.07 0-2.86zM5.41 20L4 18.59l7.72-7.72 1.47 1.35L5.41 20z\"/>\n",
              "  </svg>\n",
              "      </button>\n",
              "      \n",
              "  <style>\n",
              "    .colab-df-container {\n",
              "      display:flex;\n",
              "      flex-wrap:wrap;\n",
              "      gap: 12px;\n",
              "    }\n",
              "\n",
              "    .colab-df-convert {\n",
              "      background-color: #E8F0FE;\n",
              "      border: none;\n",
              "      border-radius: 50%;\n",
              "      cursor: pointer;\n",
              "      display: none;\n",
              "      fill: #1967D2;\n",
              "      height: 32px;\n",
              "      padding: 0 0 0 0;\n",
              "      width: 32px;\n",
              "    }\n",
              "\n",
              "    .colab-df-convert:hover {\n",
              "      background-color: #E2EBFA;\n",
              "      box-shadow: 0px 1px 2px rgba(60, 64, 67, 0.3), 0px 1px 3px 1px rgba(60, 64, 67, 0.15);\n",
              "      fill: #174EA6;\n",
              "    }\n",
              "\n",
              "    [theme=dark] .colab-df-convert {\n",
              "      background-color: #3B4455;\n",
              "      fill: #D2E3FC;\n",
              "    }\n",
              "\n",
              "    [theme=dark] .colab-df-convert:hover {\n",
              "      background-color: #434B5C;\n",
              "      box-shadow: 0px 1px 3px 1px rgba(0, 0, 0, 0.15);\n",
              "      filter: drop-shadow(0px 1px 2px rgba(0, 0, 0, 0.3));\n",
              "      fill: #FFFFFF;\n",
              "    }\n",
              "  </style>\n",
              "\n",
              "      <script>\n",
              "        const buttonEl =\n",
              "          document.querySelector('#df-68fce3c8-0e6f-4bcf-9a79-336110a4ddb7 button.colab-df-convert');\n",
              "        buttonEl.style.display =\n",
              "          google.colab.kernel.accessAllowed ? 'block' : 'none';\n",
              "\n",
              "        async function convertToInteractive(key) {\n",
              "          const element = document.querySelector('#df-68fce3c8-0e6f-4bcf-9a79-336110a4ddb7');\n",
              "          const dataTable =\n",
              "            await google.colab.kernel.invokeFunction('convertToInteractive',\n",
              "                                                     [key], {});\n",
              "          if (!dataTable) return;\n",
              "\n",
              "          const docLinkHtml = 'Like what you see? Visit the ' +\n",
              "            '<a target=\"_blank\" href=https://colab.research.google.com/notebooks/data_table.ipynb>data table notebook</a>'\n",
              "            + ' to learn more about interactive tables.';\n",
              "          element.innerHTML = '';\n",
              "          dataTable['output_type'] = 'display_data';\n",
              "          await google.colab.output.renderOutput(dataTable, element);\n",
              "          const docLink = document.createElement('div');\n",
              "          docLink.innerHTML = docLinkHtml;\n",
              "          element.appendChild(docLink);\n",
              "        }\n",
              "      </script>\n",
              "    </div>\n",
              "  </div>\n",
              "  "
            ]
          },
          "metadata": {},
          "execution_count": 7
        }
      ]
    },
    {
      "cell_type": "markdown",
      "source": [
        "# train / test 데이터셋 나누기"
      ],
      "metadata": {
        "id": "REGOZCqiBB4N"
      }
    },
    {
      "cell_type": "code",
      "source": [
        "bitcoin_df_train = bitcoin_df.iloc[:-5]\n",
        "bitcoin_df_test = bitcoin_df.iloc[-5:]\n",
        "bitcoin_df_test"
      ],
      "metadata": {
        "colab": {
          "base_uri": "https://localhost:8080/",
          "height": 238
        },
        "id": "v7dBo9lIBFls",
        "outputId": "02c5074e-2f5f-4f29-a5a3-5ad908868672"
      },
      "execution_count": 8,
      "outputs": [
        {
          "output_type": "execute_result",
          "data": {
            "text/plain": [
              "               price\n",
              "datadate            \n",
              "2022-09-05  19994.65\n",
              "2022-09-06  19789.87\n",
              "2022-09-07  18806.70\n",
              "2022-09-08  19280.08\n",
              "2022-09-09  19327.53"
            ],
            "text/html": [
              "\n",
              "  <div id=\"df-44741af1-70b2-4eb7-b939-e3a3937add63\">\n",
              "    <div class=\"colab-df-container\">\n",
              "      <div>\n",
              "<style scoped>\n",
              "    .dataframe tbody tr th:only-of-type {\n",
              "        vertical-align: middle;\n",
              "    }\n",
              "\n",
              "    .dataframe tbody tr th {\n",
              "        vertical-align: top;\n",
              "    }\n",
              "\n",
              "    .dataframe thead th {\n",
              "        text-align: right;\n",
              "    }\n",
              "</style>\n",
              "<table border=\"1\" class=\"dataframe\">\n",
              "  <thead>\n",
              "    <tr style=\"text-align: right;\">\n",
              "      <th></th>\n",
              "      <th>price</th>\n",
              "    </tr>\n",
              "    <tr>\n",
              "      <th>datadate</th>\n",
              "      <th></th>\n",
              "    </tr>\n",
              "  </thead>\n",
              "  <tbody>\n",
              "    <tr>\n",
              "      <th>2022-09-05</th>\n",
              "      <td>19994.65</td>\n",
              "    </tr>\n",
              "    <tr>\n",
              "      <th>2022-09-06</th>\n",
              "      <td>19789.87</td>\n",
              "    </tr>\n",
              "    <tr>\n",
              "      <th>2022-09-07</th>\n",
              "      <td>18806.70</td>\n",
              "    </tr>\n",
              "    <tr>\n",
              "      <th>2022-09-08</th>\n",
              "      <td>19280.08</td>\n",
              "    </tr>\n",
              "    <tr>\n",
              "      <th>2022-09-09</th>\n",
              "      <td>19327.53</td>\n",
              "    </tr>\n",
              "  </tbody>\n",
              "</table>\n",
              "</div>\n",
              "      <button class=\"colab-df-convert\" onclick=\"convertToInteractive('df-44741af1-70b2-4eb7-b939-e3a3937add63')\"\n",
              "              title=\"Convert this dataframe to an interactive table.\"\n",
              "              style=\"display:none;\">\n",
              "        \n",
              "  <svg xmlns=\"http://www.w3.org/2000/svg\" height=\"24px\"viewBox=\"0 0 24 24\"\n",
              "       width=\"24px\">\n",
              "    <path d=\"M0 0h24v24H0V0z\" fill=\"none\"/>\n",
              "    <path d=\"M18.56 5.44l.94 2.06.94-2.06 2.06-.94-2.06-.94-.94-2.06-.94 2.06-2.06.94zm-11 1L8.5 8.5l.94-2.06 2.06-.94-2.06-.94L8.5 2.5l-.94 2.06-2.06.94zm10 10l.94 2.06.94-2.06 2.06-.94-2.06-.94-.94-2.06-.94 2.06-2.06.94z\"/><path d=\"M17.41 7.96l-1.37-1.37c-.4-.4-.92-.59-1.43-.59-.52 0-1.04.2-1.43.59L10.3 9.45l-7.72 7.72c-.78.78-.78 2.05 0 2.83L4 21.41c.39.39.9.59 1.41.59.51 0 1.02-.2 1.41-.59l7.78-7.78 2.81-2.81c.8-.78.8-2.07 0-2.86zM5.41 20L4 18.59l7.72-7.72 1.47 1.35L5.41 20z\"/>\n",
              "  </svg>\n",
              "      </button>\n",
              "      \n",
              "  <style>\n",
              "    .colab-df-container {\n",
              "      display:flex;\n",
              "      flex-wrap:wrap;\n",
              "      gap: 12px;\n",
              "    }\n",
              "\n",
              "    .colab-df-convert {\n",
              "      background-color: #E8F0FE;\n",
              "      border: none;\n",
              "      border-radius: 50%;\n",
              "      cursor: pointer;\n",
              "      display: none;\n",
              "      fill: #1967D2;\n",
              "      height: 32px;\n",
              "      padding: 0 0 0 0;\n",
              "      width: 32px;\n",
              "    }\n",
              "\n",
              "    .colab-df-convert:hover {\n",
              "      background-color: #E2EBFA;\n",
              "      box-shadow: 0px 1px 2px rgba(60, 64, 67, 0.3), 0px 1px 3px 1px rgba(60, 64, 67, 0.15);\n",
              "      fill: #174EA6;\n",
              "    }\n",
              "\n",
              "    [theme=dark] .colab-df-convert {\n",
              "      background-color: #3B4455;\n",
              "      fill: #D2E3FC;\n",
              "    }\n",
              "\n",
              "    [theme=dark] .colab-df-convert:hover {\n",
              "      background-color: #434B5C;\n",
              "      box-shadow: 0px 1px 3px 1px rgba(0, 0, 0, 0.15);\n",
              "      filter: drop-shadow(0px 1px 2px rgba(0, 0, 0, 0.3));\n",
              "      fill: #FFFFFF;\n",
              "    }\n",
              "  </style>\n",
              "\n",
              "      <script>\n",
              "        const buttonEl =\n",
              "          document.querySelector('#df-44741af1-70b2-4eb7-b939-e3a3937add63 button.colab-df-convert');\n",
              "        buttonEl.style.display =\n",
              "          google.colab.kernel.accessAllowed ? 'block' : 'none';\n",
              "\n",
              "        async function convertToInteractive(key) {\n",
              "          const element = document.querySelector('#df-44741af1-70b2-4eb7-b939-e3a3937add63');\n",
              "          const dataTable =\n",
              "            await google.colab.kernel.invokeFunction('convertToInteractive',\n",
              "                                                     [key], {});\n",
              "          if (!dataTable) return;\n",
              "\n",
              "          const docLinkHtml = 'Like what you see? Visit the ' +\n",
              "            '<a target=\"_blank\" href=https://colab.research.google.com/notebooks/data_table.ipynb>data table notebook</a>'\n",
              "            + ' to learn more about interactive tables.';\n",
              "          element.innerHTML = '';\n",
              "          dataTable['output_type'] = 'display_data';\n",
              "          await google.colab.output.renderOutput(dataTable, element);\n",
              "          const docLink = document.createElement('div');\n",
              "          docLink.innerHTML = docLinkHtml;\n",
              "          element.appendChild(docLink);\n",
              "        }\n",
              "      </script>\n",
              "    </div>\n",
              "  </div>\n",
              "  "
            ]
          },
          "metadata": {},
          "execution_count": 8
        }
      ]
    },
    {
      "cell_type": "markdown",
      "source": [
        "# 가격 추이 시각화"
      ],
      "metadata": {
        "id": "JPsQA7bU5nzP"
      }
    },
    {
      "cell_type": "code",
      "source": [
        "bitcoin_df_train.plot()\n",
        "plt.show()"
      ],
      "metadata": {
        "colab": {
          "base_uri": "https://localhost:8080/",
          "height": 291
        },
        "id": "dICy_gUo5qa_",
        "outputId": "bf071d69-2cf9-4c8a-d67f-9fbf0e2dbfdc"
      },
      "execution_count": 9,
      "outputs": [
        {
          "output_type": "display_data",
          "data": {
            "text/plain": [
              "<Figure size 432x288 with 1 Axes>"
            ],
            "image/png": "[encoded data removed]"
          },
          "metadata": {
            "needs_background": "light"
          }
        }
      ]
    },
    {
      "cell_type": "markdown",
      "source": [
        "# fbprophet 라이브러리 설치"
      ],
      "metadata": {
        "id": "Q6aq5BonzqNq"
      }
    },
    {
      "cell_type": "code",
      "source": [
        "!pip install pystan==2.19.1.1 --quiet\n",
        "!pip install fbprophet --quiet"
      ],
      "metadata": {
        "colab": {
          "base_uri": "https://localhost:8080/"
        },
        "id": "U3W-6-TOzuXh",
        "outputId": "03f56488-7c55-4a35-abe0-145ea86cbe99"
      },
      "execution_count": 10,
      "outputs": [
        {
          "output_type": "stream",
          "name": "stdout",
          "text": [
            "\u001b[K     |████████████████████████████████| 67.3 MB 1.2 MB/s \n",
            "\u001b[K     |████████████████████████████████| 64 kB 1.7 MB/s \n",
            "\u001b[?25h  Building wheel for fbprophet (setup.py) ... \u001b[?25l\u001b[?25hdone\n",
            "\u001b[31mERROR: pip's dependency resolver does not currently take into account all the packages that are installed. This behaviour is the source of the following dependency conflicts.\n",
            "prophet 1.1 requires cmdstanpy>=1.0.1, but you have cmdstanpy 0.9.5 which is incompatible.\u001b[0m\n"
          ]
        }
      ]
    },
    {
      "cell_type": "code",
      "source": [
        "from fbprophet import Prophet"
      ],
      "metadata": {
        "id": "G3RikV370Djo"
      },
      "execution_count": 71,
      "outputs": []
    },
    {
      "cell_type": "markdown",
      "source": [
        "prophet모델에 사용할 수 있도록 데이터 프레임 수정"
      ],
      "metadata": {
        "id": "YEeLeyZ544RG"
      }
    },
    {
      "cell_type": "code",
      "source": [
        "date = bitcoin_df.index.tolist()\n",
        "df = pd.DataFrame(data = [date, bitcoin_df['price']]).T\n",
        "df.columns = ['ds', 'y']\n",
        "df.index = date\n",
        "df"
      ],
      "metadata": {
        "colab": {
          "base_uri": "https://localhost:8080/",
          "height": 424
        },
        "id": "uhVTVKIY3b6m",
        "outputId": "519778e0-954c-41bb-9275-8af44e2e7aa6"
      },
      "execution_count": 72,
      "outputs": [
        {
          "output_type": "execute_result",
          "data": {
            "text/plain": [
              "                   ds         y\n",
              "2021-09-09 2021-09-09  46078.38\n",
              "2021-09-10 2021-09-10  46368.69\n",
              "2021-09-11 2021-09-11  44847.48\n",
              "2021-09-12 2021-09-12  45144.79\n",
              "2021-09-13 2021-09-13  46059.12\n",
              "...               ...       ...\n",
              "2022-09-05 2022-09-05  19994.65\n",
              "2022-09-06 2022-09-06  19789.87\n",
              "2022-09-07 2022-09-07   18806.7\n",
              "2022-09-08 2022-09-08  19280.08\n",
              "2022-09-09 2022-09-09  19327.53\n",
              "\n",
              "[366 rows x 2 columns]"
            ],
            "text/html": [
              "\n",
              "  <div id=\"df-d11c6e71-54bf-4ab4-890b-faca145bd80f\">\n",
              "    <div class=\"colab-df-container\">\n",
              "      <div>\n",
              "<style scoped>\n",
              "    .dataframe tbody tr th:only-of-type {\n",
              "        vertical-align: middle;\n",
              "    }\n",
              "\n",
              "    .dataframe tbody tr th {\n",
              "        vertical-align: top;\n",
              "    }\n",
              "\n",
              "    .dataframe thead th {\n",
              "        text-align: right;\n",
              "    }\n",
              "</style>\n",
              "<table border=\"1\" class=\"dataframe\">\n",
              "  <thead>\n",
              "    <tr style=\"text-align: right;\">\n",
              "      <th></th>\n",
              "      <th>ds</th>\n",
              "      <th>y</th>\n",
              "    </tr>\n",
              "  </thead>\n",
              "  <tbody>\n",
              "    <tr>\n",
              "      <th>2021-09-09</th>\n",
              "      <td>2021-09-09</td>\n",
              "      <td>46078.38</td>\n",
              "    </tr>\n",
              "    <tr>\n",
              "      <th>2021-09-10</th>\n",
              "      <td>2021-09-10</td>\n",
              "      <td>46368.69</td>\n",
              "    </tr>\n",
              "    <tr>\n",
              "      <th>2021-09-11</th>\n",
              "      <td>2021-09-11</td>\n",
              "      <td>44847.48</td>\n",
              "    </tr>\n",
              "    <tr>\n",
              "      <th>2021-09-12</th>\n",
              "      <td>2021-09-12</td>\n",
              "      <td>45144.79</td>\n",
              "    </tr>\n",
              "    <tr>\n",
              "      <th>2021-09-13</th>\n",
              "      <td>2021-09-13</td>\n",
              "      <td>46059.12</td>\n",
              "    </tr>\n",
              "    <tr>\n",
              "      <th>...</th>\n",
              "      <td>...</td>\n",
              "      <td>...</td>\n",
              "    </tr>\n",
              "    <tr>\n",
              "      <th>2022-09-05</th>\n",
              "      <td>2022-09-05</td>\n",
              "      <td>19994.65</td>\n",
              "    </tr>\n",
              "    <tr>\n",
              "      <th>2022-09-06</th>\n",
              "      <td>2022-09-06</td>\n",
              "      <td>19789.87</td>\n",
              "    </tr>\n",
              "    <tr>\n",
              "      <th>2022-09-07</th>\n",
              "      <td>2022-09-07</td>\n",
              "      <td>18806.7</td>\n",
              "    </tr>\n",
              "    <tr>\n",
              "      <th>2022-09-08</th>\n",
              "      <td>2022-09-08</td>\n",
              "      <td>19280.08</td>\n",
              "    </tr>\n",
              "    <tr>\n",
              "      <th>2022-09-09</th>\n",
              "      <td>2022-09-09</td>\n",
              "      <td>19327.53</td>\n",
              "    </tr>\n",
              "  </tbody>\n",
              "</table>\n",
              "<p>366 rows × 2 columns</p>\n",
              "</div>\n",
              "      <button class=\"colab-df-convert\" onclick=\"convertToInteractive('df-d11c6e71-54bf-4ab4-890b-faca145bd80f')\"\n",
              "              title=\"Convert this dataframe to an interactive table.\"\n",
              "              style=\"display:none;\">\n",
              "        \n",
              "  <svg xmlns=\"http://www.w3.org/2000/svg\" height=\"24px\"viewBox=\"0 0 24 24\"\n",
              "       width=\"24px\">\n",
              "    <path d=\"M0 0h24v24H0V0z\" fill=\"none\"/>\n",
              "    <path d=\"M18.56 5.44l.94 2.06.94-2.06 2.06-.94-2.06-.94-.94-2.06-.94 2.06-2.06.94zm-11 1L8.5 8.5l.94-2.06 2.06-.94-2.06-.94L8.5 2.5l-.94 2.06-2.06.94zm10 10l.94 2.06.94-2.06 2.06-.94-2.06-.94-.94-2.06-.94 2.06-2.06.94z\"/><path d=\"M17.41 7.96l-1.37-1.37c-.4-.4-.92-.59-1.43-.59-.52 0-1.04.2-1.43.59L10.3 9.45l-7.72 7.72c-.78.78-.78 2.05 0 2.83L4 21.41c.39.39.9.59 1.41.59.51 0 1.02-.2 1.41-.59l7.78-7.78 2.81-2.81c.8-.78.8-2.07 0-2.86zM5.41 20L4 18.59l7.72-7.72 1.47 1.35L5.41 20z\"/>\n",
              "  </svg>\n",
              "      </button>\n",
              "      \n",
              "  <style>\n",
              "    .colab-df-container {\n",
              "      display:flex;\n",
              "      flex-wrap:wrap;\n",
              "      gap: 12px;\n",
              "    }\n",
              "\n",
              "    .colab-df-convert {\n",
              "      background-color: #E8F0FE;\n",
              "      border: none;\n",
              "      border-radius: 50%;\n",
              "      cursor: pointer;\n",
              "      display: none;\n",
              "      fill: #1967D2;\n",
              "      height: 32px;\n",
              "      padding: 0 0 0 0;\n",
              "      width: 32px;\n",
              "    }\n",
              "\n",
              "    .colab-df-convert:hover {\n",
              "      background-color: #E2EBFA;\n",
              "      box-shadow: 0px 1px 2px rgba(60, 64, 67, 0.3), 0px 1px 3px 1px rgba(60, 64, 67, 0.15);\n",
              "      fill: #174EA6;\n",
              "    }\n",
              "\n",
              "    [theme=dark] .colab-df-convert {\n",
              "      background-color: #3B4455;\n",
              "      fill: #D2E3FC;\n",
              "    }\n",
              "\n",
              "    [theme=dark] .colab-df-convert:hover {\n",
              "      background-color: #434B5C;\n",
              "      box-shadow: 0px 1px 3px 1px rgba(0, 0, 0, 0.15);\n",
              "      filter: drop-shadow(0px 1px 2px rgba(0, 0, 0, 0.3));\n",
              "      fill: #FFFFFF;\n",
              "    }\n",
              "  </style>\n",
              "\n",
              "      <script>\n",
              "        const buttonEl =\n",
              "          document.querySelector('#df-d11c6e71-54bf-4ab4-890b-faca145bd80f button.colab-df-convert');\n",
              "        buttonEl.style.display =\n",
              "          google.colab.kernel.accessAllowed ? 'block' : 'none';\n",
              "\n",
              "        async function convertToInteractive(key) {\n",
              "          const element = document.querySelector('#df-d11c6e71-54bf-4ab4-890b-faca145bd80f');\n",
              "          const dataTable =\n",
              "            await google.colab.kernel.invokeFunction('convertToInteractive',\n",
              "                                                     [key], {});\n",
              "          if (!dataTable) return;\n",
              "\n",
              "          const docLinkHtml = 'Like what you see? Visit the ' +\n",
              "            '<a target=\"_blank\" href=https://colab.research.google.com/notebooks/data_table.ipynb>data table notebook</a>'\n",
              "            + ' to learn more about interactive tables.';\n",
              "          element.innerHTML = '';\n",
              "          dataTable['output_type'] = 'display_data';\n",
              "          await google.colab.output.renderOutput(dataTable, element);\n",
              "          const docLink = document.createElement('div');\n",
              "          docLink.innerHTML = docLinkHtml;\n",
              "          element.appendChild(docLink);\n",
              "        }\n",
              "      </script>\n",
              "    </div>\n",
              "  </div>\n",
              "  "
            ]
          },
          "metadata": {},
          "execution_count": 72
        }
      ]
    },
    {
      "cell_type": "code",
      "source": [
        "df_train = df.iloc[:-5]\n",
        "df_test = df.iloc[-5:]\n",
        "df_test"
      ],
      "metadata": {
        "colab": {
          "base_uri": "https://localhost:8080/",
          "height": 206
        },
        "id": "NYWnP1Ia5M1n",
        "outputId": "bc0023ef-1c89-4278-8d2f-95e0e4892c61"
      },
      "execution_count": 73,
      "outputs": [
        {
          "output_type": "execute_result",
          "data": {
            "text/plain": [
              "                   ds         y\n",
              "2022-09-05 2022-09-05  19994.65\n",
              "2022-09-06 2022-09-06  19789.87\n",
              "2022-09-07 2022-09-07   18806.7\n",
              "2022-09-08 2022-09-08  19280.08\n",
              "2022-09-09 2022-09-09  19327.53"
            ],
            "text/html": [
              "\n",
              "  <div id=\"df-750d2a25-50cc-4f50-941f-ac34b70d7d97\">\n",
              "    <div class=\"colab-df-container\">\n",
              "      <div>\n",
              "<style scoped>\n",
              "    .dataframe tbody tr th:only-of-type {\n",
              "        vertical-align: middle;\n",
              "    }\n",
              "\n",
              "    .dataframe tbody tr th {\n",
              "        vertical-align: top;\n",
              "    }\n",
              "\n",
              "    .dataframe thead th {\n",
              "        text-align: right;\n",
              "    }\n",
              "</style>\n",
              "<table border=\"1\" class=\"dataframe\">\n",
              "  <thead>\n",
              "    <tr style=\"text-align: right;\">\n",
              "      <th></th>\n",
              "      <th>ds</th>\n",
              "      <th>y</th>\n",
              "    </tr>\n",
              "  </thead>\n",
              "  <tbody>\n",
              "    <tr>\n",
              "      <th>2022-09-05</th>\n",
              "      <td>2022-09-05</td>\n",
              "      <td>19994.65</td>\n",
              "    </tr>\n",
              "    <tr>\n",
              "      <th>2022-09-06</th>\n",
              "      <td>2022-09-06</td>\n",
              "      <td>19789.87</td>\n",
              "    </tr>\n",
              "    <tr>\n",
              "      <th>2022-09-07</th>\n",
              "      <td>2022-09-07</td>\n",
              "      <td>18806.7</td>\n",
              "    </tr>\n",
              "    <tr>\n",
              "      <th>2022-09-08</th>\n",
              "      <td>2022-09-08</td>\n",
              "      <td>19280.08</td>\n",
              "    </tr>\n",
              "    <tr>\n",
              "      <th>2022-09-09</th>\n",
              "      <td>2022-09-09</td>\n",
              "      <td>19327.53</td>\n",
              "    </tr>\n",
              "  </tbody>\n",
              "</table>\n",
              "</div>\n",
              "      <button class=\"colab-df-convert\" onclick=\"convertToInteractive('df-750d2a25-50cc-4f50-941f-ac34b70d7d97')\"\n",
              "              title=\"Convert this dataframe to an interactive table.\"\n",
              "              style=\"display:none;\">\n",
              "        \n",
              "  <svg xmlns=\"http://www.w3.org/2000/svg\" height=\"24px\"viewBox=\"0 0 24 24\"\n",
              "       width=\"24px\">\n",
              "    <path d=\"M0 0h24v24H0V0z\" fill=\"none\"/>\n",
              "    <path d=\"M18.56 5.44l.94 2.06.94-2.06 2.06-.94-2.06-.94-.94-2.06-.94 2.06-2.06.94zm-11 1L8.5 8.5l.94-2.06 2.06-.94-2.06-.94L8.5 2.5l-.94 2.06-2.06.94zm10 10l.94 2.06.94-2.06 2.06-.94-2.06-.94-.94-2.06-.94 2.06-2.06.94z\"/><path d=\"M17.41 7.96l-1.37-1.37c-.4-.4-.92-.59-1.43-.59-.52 0-1.04.2-1.43.59L10.3 9.45l-7.72 7.72c-.78.78-.78 2.05 0 2.83L4 21.41c.39.39.9.59 1.41.59.51 0 1.02-.2 1.41-.59l7.78-7.78 2.81-2.81c.8-.78.8-2.07 0-2.86zM5.41 20L4 18.59l7.72-7.72 1.47 1.35L5.41 20z\"/>\n",
              "  </svg>\n",
              "      </button>\n",
              "      \n",
              "  <style>\n",
              "    .colab-df-container {\n",
              "      display:flex;\n",
              "      flex-wrap:wrap;\n",
              "      gap: 12px;\n",
              "    }\n",
              "\n",
              "    .colab-df-convert {\n",
              "      background-color: #E8F0FE;\n",
              "      border: none;\n",
              "      border-radius: 50%;\n",
              "      cursor: pointer;\n",
              "      display: none;\n",
              "      fill: #1967D2;\n",
              "      height: 32px;\n",
              "      padding: 0 0 0 0;\n",
              "      width: 32px;\n",
              "    }\n",
              "\n",
              "    .colab-df-convert:hover {\n",
              "      background-color: #E2EBFA;\n",
              "      box-shadow: 0px 1px 2px rgba(60, 64, 67, 0.3), 0px 1px 3px 1px rgba(60, 64, 67, 0.15);\n",
              "      fill: #174EA6;\n",
              "    }\n",
              "\n",
              "    [theme=dark] .colab-df-convert {\n",
              "      background-color: #3B4455;\n",
              "      fill: #D2E3FC;\n",
              "    }\n",
              "\n",
              "    [theme=dark] .colab-df-convert:hover {\n",
              "      background-color: #434B5C;\n",
              "      box-shadow: 0px 1px 3px 1px rgba(0, 0, 0, 0.15);\n",
              "      filter: drop-shadow(0px 1px 2px rgba(0, 0, 0, 0.3));\n",
              "      fill: #FFFFFF;\n",
              "    }\n",
              "  </style>\n",
              "\n",
              "      <script>\n",
              "        const buttonEl =\n",
              "          document.querySelector('#df-750d2a25-50cc-4f50-941f-ac34b70d7d97 button.colab-df-convert');\n",
              "        buttonEl.style.display =\n",
              "          google.colab.kernel.accessAllowed ? 'block' : 'none';\n",
              "\n",
              "        async function convertToInteractive(key) {\n",
              "          const element = document.querySelector('#df-750d2a25-50cc-4f50-941f-ac34b70d7d97');\n",
              "          const dataTable =\n",
              "            await google.colab.kernel.invokeFunction('convertToInteractive',\n",
              "                                                     [key], {});\n",
              "          if (!dataTable) return;\n",
              "\n",
              "          const docLinkHtml = 'Like what you see? Visit the ' +\n",
              "            '<a target=\"_blank\" href=https://colab.research.google.com/notebooks/data_table.ipynb>data table notebook</a>'\n",
              "            + ' to learn more about interactive tables.';\n",
              "          element.innerHTML = '';\n",
              "          dataTable['output_type'] = 'display_data';\n",
              "          await google.colab.output.renderOutput(dataTable, element);\n",
              "          const docLink = document.createElement('div');\n",
              "          docLink.innerHTML = docLinkHtml;\n",
              "          element.appendChild(docLink);\n",
              "        }\n",
              "      </script>\n",
              "    </div>\n",
              "  </div>\n",
              "  "
            ]
          },
          "metadata": {},
          "execution_count": 73
        }
      ]
    },
    {
      "cell_type": "markdown",
      "source": [
        "2022/09/05 ~ 2022/09/09 의 데이터는 train데이터에 존재하지 않지만 예측을 하여 값이 나온 것을 확인할 수 있다."
      ],
      "metadata": {
        "id": "_Rq5cica6Lbm"
      }
    },
    {
      "cell_type": "code",
      "source": [
        "prophet = Prophet()  #프로펫 변수설정\n",
        "\n",
        "prophet.fit(df_train) #프로펫을 학습시킨다.\n",
        "\n",
        "future_data=prophet.make_future_dataframe(periods=5, freq = 'd')  # 5일치를 예측할 것.\n",
        "\n",
        "forecast_data=prophet.predict(future_data)\n",
        "forecast_data.tail(5)"
      ],
      "metadata": {
        "colab": {
          "base_uri": "https://localhost:8080/",
          "height": 394
        },
        "id": "u3d9z4IL0JzQ",
        "outputId": "96bbecd9-1f7c-4f92-8c70-65b8e464e4fe"
      },
      "execution_count": 74,
      "outputs": [
        {
          "output_type": "stream",
          "name": "stderr",
          "text": [
            "INFO:fbprophet:Disabling yearly seasonality. Run prophet with yearly_seasonality=True to override this.\n",
            "INFO:fbprophet:Disabling daily seasonality. Run prophet with daily_seasonality=True to override this.\n"
          ]
        },
        {
          "output_type": "execute_result",
          "data": {
            "text/plain": [
              "            ds         trend    yhat_lower    yhat_upper   trend_lower  \\\n",
              "361 2022-09-05  21123.687612  17483.820841  24582.813496  21123.687612   \n",
              "362 2022-09-06  21102.219358  17737.775364  24612.960117  21102.219358   \n",
              "363 2022-09-07  21080.751104  17700.239425  24870.103038  21080.751104   \n",
              "364 2022-09-08  21059.282849  17993.714778  24851.191983  21048.944764   \n",
              "365 2022-09-09  21037.814595  17575.894040  24558.810222  21004.707048   \n",
              "\n",
              "      trend_upper  additive_terms  additive_terms_lower  additive_terms_upper  \\\n",
              "361  21123.687612      -40.317204            -40.317204            -40.317204   \n",
              "362  21102.219358        2.464369              2.464369              2.464369   \n",
              "363  21080.751104      126.117856            126.117856            126.117856   \n",
              "364  21067.450828      310.314062            310.314062            310.314062   \n",
              "365  21078.746913       39.100962             39.100962             39.100962   \n",
              "\n",
              "         weekly  weekly_lower  weekly_upper  multiplicative_terms  \\\n",
              "361  -40.317204    -40.317204    -40.317204                   0.0   \n",
              "362    2.464369      2.464369      2.464369                   0.0   \n",
              "363  126.117856    126.117856    126.117856                   0.0   \n",
              "364  310.314062    310.314062    310.314062                   0.0   \n",
              "365   39.100962     39.100962     39.100962                   0.0   \n",
              "\n",
              "     multiplicative_terms_lower  multiplicative_terms_upper          yhat  \n",
              "361                         0.0                         0.0  21083.370408  \n",
              "362                         0.0                         0.0  21104.683727  \n",
              "363                         0.0                         0.0  21206.868960  \n",
              "364                         0.0                         0.0  21369.596911  \n",
              "365                         0.0                         0.0  21076.915557  "
            ],
            "text/html": [
              "\n",
              "  <div id=\"df-6a6d3959-6713-49e7-b8ab-5f449c6ec2a7\">\n",
              "    <div class=\"colab-df-container\">\n",
              "      <div>\n",
              "<style scoped>\n",
              "    .dataframe tbody tr th:only-of-type {\n",
              "        vertical-align: middle;\n",
              "    }\n",
              "\n",
              "    .dataframe tbody tr th {\n",
              "        vertical-align: top;\n",
              "    }\n",
              "\n",
              "    .dataframe thead th {\n",
              "        text-align: right;\n",
              "    }\n",
              "</style>\n",
              "<table border=\"1\" class=\"dataframe\">\n",
              "  <thead>\n",
              "    <tr style=\"text-align: right;\">\n",
              "      <th></th>\n",
              "      <th>ds</th>\n",
              "      <th>trend</th>\n",
              "      <th>yhat_lower</th>\n",
              "      <th>yhat_upper</th>\n",
              "      <th>trend_lower</th>\n",
              "      <th>trend_upper</th>\n",
              "      <th>additive_terms</th>\n",
              "      <th>additive_terms_lower</th>\n",
              "      <th>additive_terms_upper</th>\n",
              "      <th>weekly</th>\n",
              "      <th>weekly_lower</th>\n",
              "      <th>weekly_upper</th>\n",
              "      <th>multiplicative_terms</th>\n",
              "      <th>multiplicative_terms_lower</th>\n",
              "      <th>multiplicative_terms_upper</th>\n",
              "      <th>yhat</th>\n",
              "    </tr>\n",
              "  </thead>\n",
              "  <tbody>\n",
              "    <tr>\n",
              "      <th>361</th>\n",
              "      <td>2022-09-05</td>\n",
              "      <td>21123.687612</td>\n",
              "      <td>17483.820841</td>\n",
              "      <td>24582.813496</td>\n",
              "      <td>21123.687612</td>\n",
              "      <td>21123.687612</td>\n",
              "      <td>-40.317204</td>\n",
              "      <td>-40.317204</td>\n",
              "      <td>-40.317204</td>\n",
              "      <td>-40.317204</td>\n",
              "      <td>-40.317204</td>\n",
              "      <td>-40.317204</td>\n",
              "      <td>0.0</td>\n",
              "      <td>0.0</td>\n",
              "      <td>0.0</td>\n",
              "      <td>21083.370408</td>\n",
              "    </tr>\n",
              "    <tr>\n",
              "      <th>362</th>\n",
              "      <td>2022-09-06</td>\n",
              "      <td>21102.219358</td>\n",
              "      <td>17737.775364</td>\n",
              "      <td>24612.960117</td>\n",
              "      <td>21102.219358</td>\n",
              "      <td>21102.219358</td>\n",
              "      <td>2.464369</td>\n",
              "      <td>2.464369</td>\n",
              "      <td>2.464369</td>\n",
              "      <td>2.464369</td>\n",
              "      <td>2.464369</td>\n",
              "      <td>2.464369</td>\n",
              "      <td>0.0</td>\n",
              "      <td>0.0</td>\n",
              "      <td>0.0</td>\n",
              "      <td>21104.683727</td>\n",
              "    </tr>\n",
              "    <tr>\n",
              "      <th>363</th>\n",
              "      <td>2022-09-07</td>\n",
              "      <td>21080.751104</td>\n",
              "      <td>17700.239425</td>\n",
              "      <td>24870.103038</td>\n",
              "      <td>21080.751104</td>\n",
              "      <td>21080.751104</td>\n",
              "      <td>126.117856</td>\n",
              "      <td>126.117856</td>\n",
              "      <td>126.117856</td>\n",
              "      <td>126.117856</td>\n",
              "      <td>126.117856</td>\n",
              "      <td>126.117856</td>\n",
              "      <td>0.0</td>\n",
              "      <td>0.0</td>\n",
              "      <td>0.0</td>\n",
              "      <td>21206.868960</td>\n",
              "    </tr>\n",
              "    <tr>\n",
              "      <th>364</th>\n",
              "      <td>2022-09-08</td>\n",
              "      <td>21059.282849</td>\n",
              "      <td>17993.714778</td>\n",
              "      <td>24851.191983</td>\n",
              "      <td>21048.944764</td>\n",
              "      <td>21067.450828</td>\n",
              "      <td>310.314062</td>\n",
              "      <td>310.314062</td>\n",
              "      <td>310.314062</td>\n",
              "      <td>310.314062</td>\n",
              "      <td>310.314062</td>\n",
              "      <td>310.314062</td>\n",
              "      <td>0.0</td>\n",
              "      <td>0.0</td>\n",
              "      <td>0.0</td>\n",
              "      <td>21369.596911</td>\n",
              "    </tr>\n",
              "    <tr>\n",
              "      <th>365</th>\n",
              "      <td>2022-09-09</td>\n",
              "      <td>21037.814595</td>\n",
              "      <td>17575.894040</td>\n",
              "      <td>24558.810222</td>\n",
              "      <td>21004.707048</td>\n",
              "      <td>21078.746913</td>\n",
              "      <td>39.100962</td>\n",
              "      <td>39.100962</td>\n",
              "      <td>39.100962</td>\n",
              "      <td>39.100962</td>\n",
              "      <td>39.100962</td>\n",
              "      <td>39.100962</td>\n",
              "      <td>0.0</td>\n",
              "      <td>0.0</td>\n",
              "      <td>0.0</td>\n",
              "      <td>21076.915557</td>\n",
              "    </tr>\n",
              "  </tbody>\n",
              "</table>\n",
              "</div>\n",
              "      <button class=\"colab-df-convert\" onclick=\"convertToInteractive('df-6a6d3959-6713-49e7-b8ab-5f449c6ec2a7')\"\n",
              "              title=\"Convert this dataframe to an interactive table.\"\n",
              "              style=\"display:none;\">\n",
              "        \n",
              "  <svg xmlns=\"http://www.w3.org/2000/svg\" height=\"24px\"viewBox=\"0 0 24 24\"\n",
              "       width=\"24px\">\n",
              "    <path d=\"M0 0h24v24H0V0z\" fill=\"none\"/>\n",
              "    <path d=\"M18.56 5.44l.94 2.06.94-2.06 2.06-.94-2.06-.94-.94-2.06-.94 2.06-2.06.94zm-11 1L8.5 8.5l.94-2.06 2.06-.94-2.06-.94L8.5 2.5l-.94 2.06-2.06.94zm10 10l.94 2.06.94-2.06 2.06-.94-2.06-.94-.94-2.06-.94 2.06-2.06.94z\"/><path d=\"M17.41 7.96l-1.37-1.37c-.4-.4-.92-.59-1.43-.59-.52 0-1.04.2-1.43.59L10.3 9.45l-7.72 7.72c-.78.78-.78 2.05 0 2.83L4 21.41c.39.39.9.59 1.41.59.51 0 1.02-.2 1.41-.59l7.78-7.78 2.81-2.81c.8-.78.8-2.07 0-2.86zM5.41 20L4 18.59l7.72-7.72 1.47 1.35L5.41 20z\"/>\n",
              "  </svg>\n",
              "      </button>\n",
              "      \n",
              "  <style>\n",
              "    .colab-df-container {\n",
              "      display:flex;\n",
              "      flex-wrap:wrap;\n",
              "      gap: 12px;\n",
              "    }\n",
              "\n",
              "    .colab-df-convert {\n",
              "      background-color: #E8F0FE;\n",
              "      border: none;\n",
              "      border-radius: 50%;\n",
              "      cursor: pointer;\n",
              "      display: none;\n",
              "      fill: #1967D2;\n",
              "      height: 32px;\n",
              "      padding: 0 0 0 0;\n",
              "      width: 32px;\n",
              "    }\n",
              "\n",
              "    .colab-df-convert:hover {\n",
              "      background-color: #E2EBFA;\n",
              "      box-shadow: 0px 1px 2px rgba(60, 64, 67, 0.3), 0px 1px 3px 1px rgba(60, 64, 67, 0.15);\n",
              "      fill: #174EA6;\n",
              "    }\n",
              "\n",
              "    [theme=dark] .colab-df-convert {\n",
              "      background-color: #3B4455;\n",
              "      fill: #D2E3FC;\n",
              "    }\n",
              "\n",
              "    [theme=dark] .colab-df-convert:hover {\n",
              "      background-color: #434B5C;\n",
              "      box-shadow: 0px 1px 3px 1px rgba(0, 0, 0, 0.15);\n",
              "      filter: drop-shadow(0px 1px 2px rgba(0, 0, 0, 0.3));\n",
              "      fill: #FFFFFF;\n",
              "    }\n",
              "  </style>\n",
              "\n",
              "      <script>\n",
              "        const buttonEl =\n",
              "          document.querySelector('#df-6a6d3959-6713-49e7-b8ab-5f449c6ec2a7 button.colab-df-convert');\n",
              "        buttonEl.style.display =\n",
              "          google.colab.kernel.accessAllowed ? 'block' : 'none';\n",
              "\n",
              "        async function convertToInteractive(key) {\n",
              "          const element = document.querySelector('#df-6a6d3959-6713-49e7-b8ab-5f449c6ec2a7');\n",
              "          const dataTable =\n",
              "            await google.colab.kernel.invokeFunction('convertToInteractive',\n",
              "                                                     [key], {});\n",
              "          if (!dataTable) return;\n",
              "\n",
              "          const docLinkHtml = 'Like what you see? Visit the ' +\n",
              "            '<a target=\"_blank\" href=https://colab.research.google.com/notebooks/data_table.ipynb>data table notebook</a>'\n",
              "            + ' to learn more about interactive tables.';\n",
              "          element.innerHTML = '';\n",
              "          dataTable['output_type'] = 'display_data';\n",
              "          await google.colab.output.renderOutput(dataTable, element);\n",
              "          const docLink = document.createElement('div');\n",
              "          docLink.innerHTML = docLinkHtml;\n",
              "          element.appendChild(docLink);\n",
              "        }\n",
              "      </script>\n",
              "    </div>\n",
              "  </div>\n",
              "  "
            ]
          },
          "metadata": {},
          "execution_count": 74
        }
      ]
    },
    {
      "cell_type": "markdown",
      "source": [
        "# 모델 성능 확인"
      ],
      "metadata": {
        "id": "7CiPjE2A7ArQ"
      }
    },
    {
      "cell_type": "code",
      "source": [
        "pred_y = forecast_data.yhat.values[-5:]  # 마지막 5일의 예측 데이터(2022/09/05 ~ 2022/09/09)\n",
        "test_y = df_test.y.values  # 실제 5일 가격 데이터(2022/09/05 ~ 2022/09/09) \n",
        "pred_y_lower = forecast_data.yhat_lower.values[-5:]  # 마지막 5일 최대값\n",
        "pred_y_upper = forecast_data.yhat_upper.values[-5:]  # 마지막 5일 최소값"
      ],
      "metadata": {
        "id": "r6DK30of7CCD"
      },
      "execution_count": 75,
      "outputs": []
    },
    {
      "cell_type": "code",
      "source": [
        "plt.plot(pred_y, color = 'gold')  # 모델이 예상한 가격\n",
        "plt.plot(pred_y_upper, color = 'red')  # 모델이 예상한 최대 가격\n",
        "plt.plot(pred_y_lower, color = 'blue')  # 모델이 예상한 최소 가격\n",
        "plt.plot(test_y, color = 'green')  # 실제 가격\n",
        "plt.show()\n"
      ],
      "metadata": {
        "colab": {
          "base_uri": "https://localhost:8080/",
          "height": 265
        },
        "id": "gQ__rfFp8Lci",
        "outputId": "4bf775b6-8601-40ac-9d05-4fbb36dff1fc"
      },
      "execution_count": 76,
      "outputs": [
        {
          "output_type": "display_data",
          "data": {
            "text/plain": [
              "<Figure size 432x288 with 1 Axes>"
            ],
            "image/png": "[encoded data removed]"
          },
          "metadata": {
            "needs_background": "light"
          }
        }
      ]
    },
    {
      "cell_type": "code",
      "source": [
        "plt.plot(pred_y, color = 'gold')  # 모델이 예상한 가격\n",
        "plt.plot(test_y, color = 'green')  # 실제 가격\n",
        "plt.show()"
      ],
      "metadata": {
        "colab": {
          "base_uri": "https://localhost:8080/",
          "height": 265
        },
        "id": "fEV2NVGV8kJZ",
        "outputId": "5262fc8a-8920-4405-f9db-bc058acc0a40"
      },
      "execution_count": 77,
      "outputs": [
        {
          "output_type": "display_data",
          "data": {
            "text/plain": [
              "<Figure size 432x288 with 1 Axes>"
            ],
            "image/png": "[encoded data removed]"
          },
          "metadata": {
            "needs_background": "light"
          }
        }
      ]
    },
    {
      "cell_type": "code",
      "source": [
        "from sklearn.metrics import explained_variance_score, mean_squared_error, mean_absolute_error, r2_score\n",
        "import math"
      ],
      "metadata": {
        "id": "UcuKCpd_87tV"
      },
      "execution_count": 78,
      "outputs": []
    },
    {
      "cell_type": "code",
      "source": [
        "rmse = math.sqrt(mean_squared_error(pred_y, test_y))\n",
        "print(rmse)"
      ],
      "metadata": {
        "colab": {
          "base_uri": "https://localhost:8080/"
        },
        "id": "Mrs00g6F8vMu",
        "outputId": "44347949-7296-4f05-d184-677ddda1764e"
      },
      "execution_count": 79,
      "outputs": [
        {
          "output_type": "stream",
          "name": "stdout",
          "text": [
            "1794.5076789262332\n"
          ]
        }
      ]
    },
    {
      "cell_type": "markdown",
      "source": [
        "# 모델의 성능 향상\n",
        "1. 상한값 or 하한값 설정\n",
        "2. 이상치 제거 \n",
        "  - 이상치 : 평균적인 수치에 비해 지나치게 높거나 낮은 수치의 데이터를 의미"
      ],
      "metadata": {
        "id": "WmVuAnXJ9KBc"
      }
    },
    {
      "cell_type": "markdown",
      "source": [
        "# 상한가 및 하한가 설정"
      ],
      "metadata": {
        "id": "-oCPJzgp-KM1"
      }
    },
    {
      "cell_type": "code",
      "source": [
        "# 상한가 설정\n",
        "df_train['cap'] = 40000\n",
        "\n",
        "prophet = Prophet(seasonality_mode='multiplicative',\n",
        "                  growth='logistic',  # 상한가 파라미터\n",
        "                  yearly_seasonality=True,\n",
        "                  weekly_seasonality=True, daily_seasonality=True,\n",
        "                  changepoint_prior_scale=0.5)\n",
        "prophet.fit(df_train)\n",
        "\n",
        "future_data = prophet.make_future_dataframe(periods=5, freq='d')\n",
        "\n",
        "# 상한가 설정\n",
        "future_data['cap'] = 40000\n",
        "forecast_data = prophet.predict(future_data)\n",
        "\n",
        "fig = prophet.plot(forecast_data)"
      ],
      "metadata": {
        "colab": {
          "base_uri": "https://localhost:8080/",
          "height": 441
        },
        "id": "qHnu13Jw9OLI",
        "outputId": "52ec1066-e555-409c-8583-a1288f435804"
      },
      "execution_count": 100,
      "outputs": [
        {
          "output_type": "display_data",
          "data": {
            "text/plain": [
              "<Figure size 720x432 with 1 Axes>"
            ],
            "image/png": "[encoded data removed]"
          },
          "metadata": {}
        }
      ]
    },
    {
      "cell_type": "code",
      "source": [
        "pred_y = forecast_data.yhat.values[-5:]  # 마지막 5일의 예측 데이터(2022/09/05 ~ 2022/09/09)\n",
        "test_y = df_test.y.values  # 실제 5일 가격 데이터(2022/09/05 ~ 2022/09/09) \n",
        "pred_y_lower = forecast_data.yhat_lower.values[-5:]  # 마지막 5일 최대값\n",
        "pred_y_upper = forecast_data.yhat_upper.values[-5:]  # 마지막 5일 최소값\n",
        "\n",
        "plt.plot(pred_y, color = 'gold')  # 모델이 예상한 가격\n",
        "plt.plot(pred_y_upper, color = 'red')  # 모델이 예상한 최대 가격\n",
        "plt.plot(pred_y_lower, color = 'blue')  # 모델이 예상한 최소 가격\n",
        "plt.plot(test_y, color = 'green')  # 실제 가격\n",
        "plt.show()"
      ],
      "metadata": {
        "colab": {
          "base_uri": "https://localhost:8080/",
          "height": 265
        },
        "id": "AwmJ06CW_mZv",
        "outputId": "44e7a5c6-5d48-46bb-9aee-5298b5cb937b"
      },
      "execution_count": 101,
      "outputs": [
        {
          "output_type": "display_data",
          "data": {
            "text/plain": [
              "<Figure size 432x288 with 1 Axes>"
            ],
            "image/png": "[encoded data removed]"
          },
          "metadata": {
            "needs_background": "light"
          }
        }
      ]
    },
    {
      "cell_type": "code",
      "source": [
        "plt.plot(pred_y, color = 'gold')  # 모델이 예상한 가격\n",
        "plt.plot(test_y, color = 'green')  # 실제 가격\n",
        "plt.show()"
      ],
      "metadata": {
        "colab": {
          "base_uri": "https://localhost:8080/",
          "height": 265
        },
        "id": "1udQlV5ECOon",
        "outputId": "5a17a1fc-2738-463b-c35a-6b1b1216ee58"
      },
      "execution_count": 102,
      "outputs": [
        {
          "output_type": "display_data",
          "data": {
            "text/plain": [
              "<Figure size 432x288 with 1 Axes>"
            ],
            "image/png": "[encoded data removed]"
          },
          "metadata": {
            "needs_background": "light"
          }
        }
      ]
    },
    {
      "cell_type": "markdown",
      "source": [
        "# 이상치 제거"
      ],
      "metadata": {
        "id": "46yo5ihKAZdF"
      }
    },
    {
      "cell_type": "code",
      "source": [
        "# 상한가 column 제거\n",
        "df_train = df_train.drop(['cap'], axis=1)"
      ],
      "metadata": {
        "id": "L0SsgeiwAErW"
      },
      "execution_count": 103,
      "outputs": []
    },
    {
      "cell_type": "code",
      "source": [
        "# 65000 이상의 데이터는 이상치로 판단\n",
        "df_train.loc[df_train['y'] > 65000, 'y'] = None\n",
        "\n",
        "# prophet 모델 학습\n",
        "prophet = Prophet(seasonality_mode='multiplicative',\n",
        "                  yearly_seasonality=True,\n",
        "                  weekly_seasonality=True, daily_seasonality=True,\n",
        "                  changepoint_prior_scale=0.5)\n",
        "prophet.fit(df_train)\n",
        "\n",
        "future_data = prophet.make_future_dataframe(periods=5, freq='d')\n",
        "forecast_data = prophet.predict(future_data)\n",
        "\n",
        "# 예측한 결과 그래프 출력\n",
        "fig = prophet.plot(forecast_data)"
      ],
      "metadata": {
        "colab": {
          "base_uri": "https://localhost:8080/",
          "height": 441
        },
        "id": "2mx39IdiBn3Q",
        "outputId": "9a804ae9-294b-4f66-857c-c1a87a6ccfc7"
      },
      "execution_count": 105,
      "outputs": [
        {
          "output_type": "display_data",
          "data": {
            "text/plain": [
              "<Figure size 720x432 with 1 Axes>"
            ],
            "image/png": "[encoded data removed]"
          },
          "metadata": {}
        }
      ]
    },
    {
      "cell_type": "code",
      "source": [
        "pred_y = forecast_data.yhat.values[-5:]  # 마지막 5일의 예측 데이터(2022/09/05 ~ 2022/09/09)\n",
        "test_y = df_test.y.values  # 실제 5일 가격 데이터(2022/09/05 ~ 2022/09/09) \n",
        "pred_y_lower = forecast_data.yhat_lower.values[-5:]  # 마지막 5일 최대값\n",
        "pred_y_upper = forecast_data.yhat_upper.values[-5:]  # 마지막 5일 최소값\n",
        "\n",
        "plt.plot(pred_y, color = 'gold')  # 모델이 예상한 가격\n",
        "plt.plot(pred_y_upper, color = 'red')  # 모델이 예상한 최대 가격\n",
        "plt.plot(pred_y_lower, color = 'blue')  # 모델이 예상한 최소 가격\n",
        "plt.plot(test_y, color = 'green')  # 실제 가격\n",
        "plt.show()"
      ],
      "metadata": {
        "colab": {
          "base_uri": "https://localhost:8080/",
          "height": 265
        },
        "id": "GigcixtrD38l",
        "outputId": "2b95f021-dc9e-4c64-ba22-d130996a3d15"
      },
      "execution_count": 106,
      "outputs": [
        {
          "output_type": "display_data",
          "data": {
            "text/plain": [
              "<Figure size 432x288 with 1 Axes>"
            ],
            "image/png": "[encoded data removed]"
          },
          "metadata": {
            "needs_background": "light"
          }
        }
      ]
    },
    {
      "cell_type": "code",
      "source": [
        "plt.plot(pred_y, color = 'gold')  # 모델이 예상한 가격\n",
        "plt.plot(test_y, color = 'green')  # 실제 가격\n",
        "plt.show()"
      ],
      "metadata": {
        "colab": {
          "base_uri": "https://localhost:8080/",
          "height": 265
        },
        "id": "Ag1FnEEbD8ek",
        "outputId": "c73cd309-bf25-4f28-b1cf-4f073b736516"
      },
      "execution_count": 107,
      "outputs": [
        {
          "output_type": "display_data",
          "data": {
            "text/plain": [
              "<Figure size 432x288 with 1 Axes>"
            ],
            "image/png": "[encoded data removed]"
          },
          "metadata": {
            "needs_background": "light"
          }
        }
      ]
    }
  ]
}